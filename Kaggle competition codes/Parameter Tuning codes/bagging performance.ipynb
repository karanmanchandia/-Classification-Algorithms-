{
 "cells": [
  {
   "cell_type": "code",
   "execution_count": 109,
   "metadata": {},
   "outputs": [],
   "source": [
    "import numpy as np\n",
    "import matplotlib.pyplot as plt\n",
    "import pandas as pd"
   ]
  },
  {
   "cell_type": "code",
   "execution_count": 110,
   "metadata": {},
   "outputs": [],
   "source": [
    "col_names = [i for i in range(101)]\n",
    "dataset = pd.read_csv(\"train_features.csv\",names = col_names)\n",
    "col_names1 = [i for i in range(2)]\n",
    "labels = pd.read_csv(\"train_label.csv\",names = col_names1)\n",
    "\n",
    "pd.set_option('display.max_rows', 1000)\n",
    "pd.set_option('display.max_columns', 1000)"
   ]
  },
  {
   "cell_type": "code",
   "execution_count": 111,
   "metadata": {},
   "outputs": [],
   "source": [
    "# Removing first col\n",
    "X = dataset.iloc[:, 1: ].values\n",
    "Y = labels.iloc[1:, -1].values\n",
    "\n",
    "from sklearn.model_selection import train_test_split\n",
    "X_train, X_test, y_train, y_test = train_test_split(X, Y, test_size=0.30, random_state=32)"
   ]
  },
  {
   "cell_type": "code",
   "execution_count": 112,
   "metadata": {},
   "outputs": [],
   "source": [
    "from sklearn.preprocessing import StandardScaler\n",
    "scaler = StandardScaler()\n",
    "scaler.fit(X_train)\n",
    "X_train = scaler.transform(X_train)\n",
    "X_test = scaler.transform(X_test)"
   ]
  },
  {
   "cell_type": "code",
   "execution_count": 113,
   "metadata": {},
   "outputs": [],
   "source": [
    "# from sklearn.ensemble import BaggingClassifier\n",
    "# from sklearn.tree import DecisionTreeClassifier\n",
    "# dtc = DecisionTreeClassifier(criterion=\"entropy\")\n",
    "# bag_model=BaggingClassifier(base_estimator=dtc, n_estimators=50, bootstrap=True)\n",
    "# bag_model=bag_model.fit(X_train,y_train)\n",
    "# y_pred=bag_model.predict(X_test)"
   ]
  },
  {
   "cell_type": "code",
   "execution_count": 114,
   "metadata": {},
   "outputs": [],
   "source": [
    "# from sklearn.linear_model import LogisticRegression\n",
    "# from sklearn.ensemble import BaggingClassifier\n",
    "# lr = LogisticRegression(random_state=10, multi_class = 'ovr', C=0.1, penalty='l1')\n",
    "# bag_model=BaggingClassifier(base_estimator=lr,n_estimators=100,bootstrap=True)\n",
    "# bag_model=bag_model.fit(X_train,y_train)\n",
    "# y_pred=bag_model.predict(X_test)"
   ]
  },
  {
   "cell_type": "code",
   "execution_count": 115,
   "metadata": {},
   "outputs": [],
   "source": [
    "# from sklearn.neighbors import KNeighborsClassifier\n",
    "# knn = KNeighborsClassifier(n_neighbors=9, weights='distance')\n",
    "# from sklearn.ensemble import BaggingClassifier\n",
    "# bag_model=BaggingClassifier(base_estimator=knn,n_estimators=100,bootstrap=True)\n",
    "# bag_model=bag_model.fit(X_train,y_train)\n",
    "# y_pred=bag_model.predict(X_test)"
   ]
  },
  {
   "cell_type": "code",
   "execution_count": 116,
   "metadata": {},
   "outputs": [],
   "source": [
    "# from sklearn.svm import SVC\n",
    "# svclassifier = SVC(kernel='poly', gamma=10, degree=2)\n",
    "# from sklearn.ensemble import BaggingClassifier\n",
    "# bag_model=BaggingClassifier(base_estimator=svclassifier,n_estimators=100,bootstrap=True)\n",
    "# bag_model=bag_model.fit(X_train,y_train)\n",
    "# y_pred=bag_model.predict(X_test)"
   ]
  },
  {
   "cell_type": "code",
   "execution_count": 117,
   "metadata": {},
   "outputs": [],
   "source": [
    "# from sklearn.ensemble import AdaBoostClassifier\n",
    "# abc =AdaBoostClassifier(n_estimators=9, learning_rate=0.5)\n",
    "# from sklearn.ensemble import BaggingClassifier\n",
    "# bag_model=BaggingClassifier(base_estimator=abc,n_estimators=100,bootstrap=True)\n",
    "# bag_model=bag_model.fit(X_train,y_train)\n",
    "# y_pred=bag_model.predict(X_test)"
   ]
  },
  {
   "cell_type": "code",
   "execution_count": 118,
   "metadata": {},
   "outputs": [
    {
     "name": "stdout",
     "output_type": "stream",
     "text": [
      "[[11 20]\n",
      " [ 2 93]]\n",
      "              precision    recall  f1-score   support\n",
      "\n",
      "           0       0.85      0.35      0.50        31\n",
      "           1       0.82      0.98      0.89        95\n",
      "\n",
      "    accuracy                           0.83       126\n",
      "   macro avg       0.83      0.67      0.70       126\n",
      "weighted avg       0.83      0.83      0.80       126\n",
      "\n"
     ]
    }
   ],
   "source": [
    "from sklearn.metrics import classification_report, confusion_matrix\n",
    "print(confusion_matrix(y_test, y_pred))\n",
    "print(classification_report(y_test, y_pred))"
   ]
  },
  {
   "cell_type": "code",
   "execution_count": null,
   "metadata": {},
   "outputs": [],
   "source": []
  },
  {
   "cell_type": "code",
   "execution_count": null,
   "metadata": {},
   "outputs": [],
   "source": []
  },
  {
   "cell_type": "code",
   "execution_count": null,
   "metadata": {},
   "outputs": [],
   "source": []
  },
  {
   "cell_type": "code",
   "execution_count": null,
   "metadata": {},
   "outputs": [],
   "source": []
  },
  {
   "cell_type": "code",
   "execution_count": null,
   "metadata": {},
   "outputs": [],
   "source": []
  }
 ],
 "metadata": {
  "kernelspec": {
   "display_name": "Python 3",
   "language": "python",
   "name": "python3"
  },
  "language_info": {
   "codemirror_mode": {
    "name": "ipython",
    "version": 3
   },
   "file_extension": ".py",
   "mimetype": "text/x-python",
   "name": "python",
   "nbconvert_exporter": "python",
   "pygments_lexer": "ipython3",
   "version": "3.7.3"
  }
 },
 "nbformat": 4,
 "nbformat_minor": 2
}

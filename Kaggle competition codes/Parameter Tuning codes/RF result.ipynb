{
 "cells": [
  {
   "cell_type": "code",
   "execution_count": 1,
   "metadata": {},
   "outputs": [],
   "source": [
    "import numpy as np\n",
    "import matplotlib.pyplot as plt\n",
    "import pandas as pd"
   ]
  },
  {
   "cell_type": "code",
   "execution_count": 2,
   "metadata": {},
   "outputs": [],
   "source": [
    "col_names = [i for i in range(101)]\n",
    "dataset = pd.read_csv(\"train_features.csv\",names = col_names)\n",
    "\n",
    "pd.set_option('display.max_rows', 1000)\n",
    "pd.set_option('display.max_columns', 1000)\n",
    "\n",
    "col_names1 = [i for i in range(2)]\n",
    "labels = pd.read_csv(\"train_label.csv\",names = col_names1)\n",
    "\n",
    "temp1 = [i for i in range(101)]\n",
    "test_data = pd.read_csv(\"test_features.csv\",names = temp1)"
   ]
  },
  {
   "cell_type": "code",
   "execution_count": 3,
   "metadata": {},
   "outputs": [],
   "source": [
    "# Removing first col\n",
    "X_train = dataset.iloc[:, 1: ].values\n",
    "y_train = labels.iloc[1:, -1].values\n",
    "X_test = test_data.iloc[:, 1: ].values"
   ]
  },
  {
   "cell_type": "code",
   "execution_count": 4,
   "metadata": {},
   "outputs": [],
   "source": [
    "from sklearn.preprocessing import StandardScaler\n",
    "scaler = StandardScaler()\n",
    "scaler.fit(X_train)\n",
    "X_train = scaler.transform(X_train)\n",
    "X_test = scaler.transform(X_test)"
   ]
  },
  {
   "cell_type": "code",
   "execution_count": 5,
   "metadata": {},
   "outputs": [
    {
     "name": "stdout",
     "output_type": "stream",
     "text": [
      "RandomForestRegressor(bootstrap=True, criterion='mse', max_depth=None,\n",
      "                      max_features=100, max_leaf_nodes=None,\n",
      "                      min_impurity_decrease=0.0, min_impurity_split=None,\n",
      "                      min_samples_leaf=1, min_samples_split=2,\n",
      "                      min_weight_fraction_leaf=0.0, n_estimators=20,\n",
      "                      n_jobs=None, oob_score=False, random_state=8, verbose=0,\n",
      "                      warm_start=False)\n"
     ]
    }
   ],
   "source": [
    "from sklearn.ensemble import RandomForestRegressor\n",
    "regressor = RandomForestRegressor(n_estimators=20, random_state=8, max_features=100)\n",
    "print(regressor)"
   ]
  },
  {
   "cell_type": "code",
   "execution_count": 6,
   "metadata": {},
   "outputs": [
    {
     "name": "stdout",
     "output_type": "stream",
     "text": [
      "[0.9  0.95 0.7  0.75 0.85 0.85 0.9  0.45 0.5  1.   0.65 0.85 1.   0.8\n",
      " 0.5  0.55 0.65 1.   0.9  0.7  0.85 0.65 0.75 0.85 0.85 0.45 1.   0.25\n",
      " 0.7  1.   0.75 0.95 1.   0.35 0.65 0.7  0.35 0.25 0.8  0.95 0.75 0.2\n",
      " 0.8  1.   0.75 0.8  0.85 0.65 0.85 0.55 1.   0.95 0.85 0.9  0.9  1.\n",
      " 0.2  0.55 0.6  0.7  0.45 0.5  0.75 0.8  0.65 0.6  0.55 0.95 0.75 0.95\n",
      " 0.8  0.7  1.   0.8  1.   0.6  0.8  0.85 0.7  0.5  1.   0.8  0.9  0.95\n",
      " 0.8  0.7  0.55 0.5  0.9  0.8  0.75 0.9  0.7  0.5  0.75 0.35 0.1  0.85\n",
      " 1.   0.8  0.15 0.75 1.   0.5  0.8  0.95 0.6  0.8  0.2  0.65 0.4  1.\n",
      " 0.8  0.65 0.95 0.6  0.75 0.2  0.9  0.95 0.8  0.85 0.7  0.95 0.8  0.7\n",
      " 0.6  0.65 0.75 0.7  0.65 0.85 0.65 0.35 0.9  1.   0.85 0.25 0.9  1.\n",
      " 0.65 0.7  0.55 0.85 0.45 0.65 0.95 0.95 0.7  0.9  0.95 0.85 0.65 0.15\n",
      " 0.8  0.9  0.75 0.7  0.95 0.85 0.85 0.9  0.85 0.75 0.55 0.4  0.7  0.6\n",
      " 0.45 0.35 0.9  0.65 0.8  0.6  1.   0.95 0.95 0.3  0.5  0.6  0.45 1.\n",
      " 0.45 0.8  0.25 0.9  0.85 0.8  1.   1.   0.7  0.95 0.9  0.9  0.85 0.55\n",
      " 0.3  0.7  0.75 0.95 0.7  0.6  0.95 1.   0.9  0.75 0.65 1.   1.   1.\n",
      " 0.45 0.25 0.95 0.35 0.55 0.95 0.7  0.75 0.35 0.95 0.7  0.75 0.7  0.9\n",
      " 0.3  0.8  0.6  0.95 0.95 0.7  0.75 1.   1.   1.   0.9  0.95 0.65 0.8\n",
      " 0.45 0.85 0.4  0.8  1.   0.95 0.7  0.85 0.3  0.6  0.85 0.95 0.2  0.9\n",
      " 0.8  0.9  0.5  0.95 0.7  0.85 0.95 0.85 0.75 0.55 0.85 0.85 0.7  0.9\n",
      " 0.45 0.25 0.35 0.65 0.15 0.75 0.85 0.5  0.8  0.45 0.7  0.9  0.3  0.95\n",
      " 0.9  0.45 0.85 0.85 1.   1.   0.95 0.85 0.75 0.65 0.95 0.75 0.95 0.85\n",
      " 0.85 0.9  0.9  0.8  1.   0.5  0.95 0.75 0.7  1.   0.45 0.7  0.6  0.8\n",
      " 0.55 1.   0.4  0.75 0.7  0.8  0.75 0.9  0.95 0.95 0.9  0.8  0.75 0.8\n",
      " 0.9  0.85 0.6  0.65 0.95 0.7  0.7  0.75 0.9  0.45 0.9  0.6  0.7  0.65\n",
      " 0.7  0.6  0.75 0.8  0.5  0.5  0.25 0.75 0.4  0.9  0.3  0.8  0.8  1.\n",
      " 0.25 0.65 0.55 1.   0.5  0.75 0.95 0.9  0.75 0.5  0.95 0.8  0.8  0.75\n",
      " 0.35 0.9  0.35 0.7  0.85 0.6  0.6  0.8  0.3  0.25 1.   0.7  0.8  0.75]\n",
      "<class 'numpy.ndarray'>\n"
     ]
    }
   ],
   "source": [
    "regressor.fit(X_train, y_train)\n",
    "y_pred1 = regressor.predict(X_test)\n",
    "print(y_pred1)\n",
    "print(type(y_pred1))"
   ]
  },
  {
   "cell_type": "code",
   "execution_count": 7,
   "metadata": {},
   "outputs": [
    {
     "name": "stdout",
     "output_type": "stream",
     "text": [
      "[1 1 1 1 1 1 1 0 0 1 1 1 1 1 0 1 1 1 1 1 1 1 1 1 1 0 1 0 1 1 1 1 1 0 1 1 0\n",
      " 0 1 1 1 0 1 1 1 1 1 1 1 1 1 1 1 1 1 1 0 1 1 1 0 0 1 1 1 1 1 1 1 1 1 1 1 1\n",
      " 1 1 1 1 1 0 1 1 1 1 1 1 1 0 1 1 1 1 1 0 1 0 0 1 1 1 0 1 1 0 1 1 1 1 0 1 0\n",
      " 1 1 1 1 1 1 0 1 1 1 1 1 1 1 1 1 1 1 1 1 1 1 0 1 1 1 0 1 1 1 1 1 1 0 1 1 1\n",
      " 1 1 1 1 1 0 1 1 1 1 1 1 1 1 1 1 1 0 1 1 0 0 1 1 1 1 1 1 1 0 0 1 0 1 0 1 0\n",
      " 1 1 1 1 1 1 1 1 1 1 1 0 1 1 1 1 1 1 1 1 1 1 1 1 1 0 0 1 0 1 1 1 1 0 1 1 1\n",
      " 1 1 0 1 1 1 1 1 1 1 1 1 1 1 1 1 0 1 0 1 1 1 1 1 0 1 1 1 0 1 1 1 0 1 1 1 1\n",
      " 1 1 1 1 1 1 1 0 0 0 1 0 1 1 0 1 0 1 1 0 1 1 0 1 1 1 1 1 1 1 1 1 1 1 1 1 1\n",
      " 1 1 1 0 1 1 1 1 0 1 1 1 1 1 0 1 1 1 1 1 1 1 1 1 1 1 1 1 1 1 1 1 1 1 1 0 1\n",
      " 1 1 1 1 1 1 1 0 0 0 1 0 1 0 1 1 1 0 1 1 1 0 1 1 1 1 0 1 1 1 1 0 1 0 1 1 1\n",
      " 1 1 0 0 1 1 1 1]\n"
     ]
    }
   ],
   "source": [
    "y_pred = []\n",
    "for item in y_pred1:\n",
    "    temp = round(item)\n",
    "    y_pred.append(temp)\n",
    "\n",
    "y_pred = np.asarray(y_pred)\n",
    "y_pred = y_pred.astype(int)\n",
    "print(y_pred)"
   ]
  },
  {
   "cell_type": "code",
   "execution_count": 8,
   "metadata": {},
   "outputs": [],
   "source": [
    "d = {'id': [i for i in range(418,796)], 'label': y_pred}\n",
    "df = pd.DataFrame(data=d)\n",
    "df.to_csv('result_r.csv',index = False)"
   ]
  },
  {
   "cell_type": "code",
   "execution_count": null,
   "metadata": {},
   "outputs": [],
   "source": []
  },
  {
   "cell_type": "code",
   "execution_count": null,
   "metadata": {},
   "outputs": [],
   "source": []
  }
 ],
 "metadata": {
  "kernelspec": {
   "display_name": "Python 3",
   "language": "python",
   "name": "python3"
  },
  "language_info": {
   "codemirror_mode": {
    "name": "ipython",
    "version": 3
   },
   "file_extension": ".py",
   "mimetype": "text/x-python",
   "name": "python",
   "nbconvert_exporter": "python",
   "pygments_lexer": "ipython3",
   "version": "3.7.3"
  }
 },
 "nbformat": 4,
 "nbformat_minor": 2
}

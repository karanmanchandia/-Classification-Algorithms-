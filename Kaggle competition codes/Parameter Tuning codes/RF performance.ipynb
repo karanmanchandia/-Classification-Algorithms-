{
 "cells": [
  {
   "cell_type": "code",
   "execution_count": 13,
   "metadata": {},
   "outputs": [],
   "source": [
    "import numpy as np\n",
    "import matplotlib.pyplot as plt\n",
    "import pandas as pd"
   ]
  },
  {
   "cell_type": "code",
   "execution_count": 14,
   "metadata": {},
   "outputs": [],
   "source": [
    "col_names = [i for i in range(101)]\n",
    "dataset = pd.read_csv(\"train_features.csv\",names = col_names)\n",
    "col_names1 = [i for i in range(2)]\n",
    "labels = pd.read_csv(\"train_label.csv\",names = col_names1)\n",
    "\n",
    "pd.set_option('display.max_rows', 1000)\n",
    "pd.set_option('display.max_columns', 1000)"
   ]
  },
  {
   "cell_type": "code",
   "execution_count": 15,
   "metadata": {},
   "outputs": [],
   "source": [
    "# Removing first col\n",
    "X = dataset.iloc[:, 1: ].values\n",
    "Y = labels.iloc[1:, -1].values\n",
    "\n",
    "from sklearn.model_selection import train_test_split\n",
    "X_train, X_test, y_train, y_test = train_test_split(X, Y, test_size=0.20, random_state=32)"
   ]
  },
  {
   "cell_type": "code",
   "execution_count": 16,
   "metadata": {},
   "outputs": [],
   "source": [
    "from sklearn.preprocessing import StandardScaler\n",
    "scaler = StandardScaler()\n",
    "scaler.fit(X_train)\n",
    "X_train = scaler.transform(X_train)\n",
    "X_test = scaler.transform(X_test)"
   ]
  },
  {
   "cell_type": "code",
   "execution_count": 18,
   "metadata": {},
   "outputs": [
    {
     "name": "stdout",
     "output_type": "stream",
     "text": [
      "RandomForestRegressor(bootstrap=True, criterion='mse', max_depth=None,\n",
      "                      max_features=100, max_leaf_nodes=None,\n",
      "                      min_impurity_decrease=0.0, min_impurity_split=None,\n",
      "                      min_samples_leaf=1, min_samples_split=2,\n",
      "                      min_weight_fraction_leaf=0.0, n_estimators=20,\n",
      "                      n_jobs=None, oob_score=False, random_state=8, verbose=0,\n",
      "                      warm_start=False)\n"
     ]
    }
   ],
   "source": [
    "from sklearn.ensemble import RandomForestRegressor\n",
    "regressor = RandomForestRegressor(n_estimators=20, random_state=8, max_features=100)\n",
    "print(regressor)"
   ]
  },
  {
   "cell_type": "code",
   "execution_count": 19,
   "metadata": {},
   "outputs": [
    {
     "name": "stdout",
     "output_type": "stream",
     "text": [
      "[0.8  0.85 0.8  0.65 0.45 0.2  0.9  0.95 0.75 0.85 0.9  0.95 0.75 0.85\n",
      " 0.7  0.7  0.8  0.85 0.75 0.95 0.25 0.65 0.5  0.95 0.55 0.5  0.6  0.9\n",
      " 0.95 0.9  0.55 0.8  0.95 0.35 0.6  0.95 0.75 0.85 0.9  0.8  0.6  0.75\n",
      " 0.75 0.15 0.8  0.9  0.95 0.75 0.7  0.9  0.65 0.6  0.5  0.95 0.95 0.7\n",
      " 0.7  0.75 0.4  0.6  0.95 0.95 0.55 0.85 0.8  0.2  0.7  0.4  0.75 0.5\n",
      " 0.6  0.9  0.8  0.8  0.45 0.85 0.85 0.2  0.6  0.8  0.65 0.75 1.   0.75]\n",
      "<class 'numpy.ndarray'>\n"
     ]
    }
   ],
   "source": [
    "regressor.fit(X_train, y_train)\n",
    "y_pred1 = regressor.predict(X_test)\n",
    "print(y_pred1)\n",
    "print(type(y_pred1))"
   ]
  },
  {
   "cell_type": "code",
   "execution_count": 20,
   "metadata": {},
   "outputs": [
    {
     "name": "stdout",
     "output_type": "stream",
     "text": [
      "[1 1 1 1 0 0 1 1 1 1 1 1 1 1 1 1 1 1 1 1 0 1 0 1 1 0 1 1 1 1 1 1 1 0 1 1 1\n",
      " 1 1 1 1 1 1 0 1 1 1 1 1 1 1 1 0 1 1 1 1 1 0 1 1 1 1 1 1 0 1 0 1 0 1 1 1 1\n",
      " 0 1 1 0 1 1 1 1 1 1]\n"
     ]
    }
   ],
   "source": [
    "y_pred = []\n",
    "for item in y_pred1:\n",
    "    temp = round(item)\n",
    "    y_pred.append(temp)\n",
    "\n",
    "y_pred = np.asarray(y_pred)\n",
    "y_pred = y_pred.astype(int)\n",
    "print(y_pred)"
   ]
  },
  {
   "cell_type": "code",
   "execution_count": 21,
   "metadata": {},
   "outputs": [],
   "source": [
    "y_test = y_test.astype(int)"
   ]
  },
  {
   "cell_type": "code",
   "execution_count": 22,
   "metadata": {},
   "outputs": [],
   "source": [
    "# from sklearn.metrics import classification_report, confusion_matrix\n",
    "# print(confusion_matrix(y_test, y_pred))\n",
    "# print(classification_report(y_test, y_pred))"
   ]
  },
  {
   "cell_type": "code",
   "execution_count": 23,
   "metadata": {},
   "outputs": [],
   "source": [
    "def aprf_performance (given_classes, estimated_classes):\n",
    "    # Defining four variables\n",
    "    # a(true positive): The case when actual class is \"Yes\" and predicted class is also \"Yes\"\n",
    "    # b(false negative): The case when actual class is \"Yes\" and predicted class is \"No\"\n",
    "    # c(flase positive): The case when actual class is \"No\" and predicted class is \"Yes\"\n",
    "    # d(true nrgative): The case when actual class is \"No\" and predicted class is also \"No\"\n",
    "    # Yes/ No corresponds to 1/0.\n",
    "    a = 0\n",
    "    b = 0\n",
    "    c = 0\n",
    "    d = 0\n",
    "    \n",
    "    # defining a new variable\n",
    "    # Calculating values of a,b,c,d.\n",
    "    temp15 = 0\n",
    "    while temp15 < len(given_classes):\n",
    "        if(given_classes[temp15] == 1 and estimated_classes[temp15] == 1):\n",
    "            a += 1\n",
    "        elif(given_classes[temp15] == 0 and estimated_classes[temp15] == 1):\n",
    "            c += 1\n",
    "        elif(given_classes[temp15] == 0 and estimated_classes[temp15] == 0):\n",
    "            d += 1\n",
    "        else:\n",
    "            b += 1\n",
    "        temp15 += 1\n",
    "        \n",
    "    # Correctly classified records\n",
    "    A_num = a+d\n",
    "    # Total Records\n",
    "    A_den = len(given_classes)\n",
    "    # Calculating Accuracy (A)\n",
    "    A = A_num/A_den\n",
    "    P_den = a+c\n",
    "    # Calculating precision (P)\n",
    "    P = a/P_den \n",
    "    R_den = a+b\n",
    "    # Calculating recall (R)\n",
    "    R = a/R_den\n",
    "    fm_num = 2*a\n",
    "    fm_den = (2*a)+b+c\n",
    "    # Calculating f-measure\n",
    "    FM = fm_num/fm_den\n",
    "    print(f\"A: {A}\")\n",
    "    print(f\"P: {P}\")\n",
    "    print(f\"R: {R}\")\n",
    "    print(f\"FM: {FM}\")"
   ]
  },
  {
   "cell_type": "code",
   "execution_count": 24,
   "metadata": {},
   "outputs": [
    {
     "name": "stdout",
     "output_type": "stream",
     "text": [
      "A: 0.9642857142857143\n",
      "P: 0.9714285714285714\n",
      "R: 0.9855072463768116\n",
      "FM: 0.9784172661870504\n"
     ]
    }
   ],
   "source": [
    "aprf_performance (y_test, y_pred)"
   ]
  },
  {
   "cell_type": "code",
   "execution_count": null,
   "metadata": {},
   "outputs": [],
   "source": []
  },
  {
   "cell_type": "code",
   "execution_count": null,
   "metadata": {},
   "outputs": [],
   "source": []
  }
 ],
 "metadata": {
  "kernelspec": {
   "display_name": "Python 3",
   "language": "python",
   "name": "python3"
  },
  "language_info": {
   "codemirror_mode": {
    "name": "ipython",
    "version": 3
   },
   "file_extension": ".py",
   "mimetype": "text/x-python",
   "name": "python",
   "nbconvert_exporter": "python",
   "pygments_lexer": "ipython3",
   "version": "3.7.3"
  }
 },
 "nbformat": 4,
 "nbformat_minor": 2
}
